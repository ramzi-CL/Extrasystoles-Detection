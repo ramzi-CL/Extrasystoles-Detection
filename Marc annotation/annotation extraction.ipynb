{
 "cells": [
  {
   "cell_type": "code",
   "execution_count": 3,
   "id": "185a5f3a",
   "metadata": {},
   "outputs": [],
   "source": [
    "import glob\n",
    "annotation_files = glob.glob('annotation/*.json')"
   ]
  },
  {
   "cell_type": "code",
   "execution_count": 4,
   "id": "11d96bf7",
   "metadata": {
    "scrolled": true
   },
   "outputs": [
    {
     "data": {
      "text/plain": [
       "32"
      ]
     },
     "execution_count": 4,
     "metadata": {},
     "output_type": "execute_result"
    }
   ],
   "source": [
    "len(annotation_files)"
   ]
  },
  {
   "cell_type": "code",
   "execution_count": 13,
   "id": "e8b04732",
   "metadata": {},
   "outputs": [],
   "source": [
    "import json\n",
    "ind = 1\n",
    "f = open(annotation_files[ind])\n",
    "ann = json.load(f)\n",
    "f.close()"
   ]
  },
  {
   "cell_type": "code",
   "execution_count": 14,
   "id": "975701d1",
   "metadata": {},
   "outputs": [
    {
     "data": {
      "text/plain": [
       "'annotation\\\\project-31AoWZ-4 3.json'"
      ]
     },
     "execution_count": 14,
     "metadata": {},
     "output_type": "execute_result"
    }
   ],
   "source": [
    "annotation_files[ind]"
   ]
  },
  {
   "cell_type": "code",
   "execution_count": 15,
   "id": "2ec560d6",
   "metadata": {},
   "outputs": [
    {
     "data": {
      "text/plain": [
       "3"
      ]
     },
     "execution_count": 15,
     "metadata": {},
     "output_type": "execute_result"
    }
   ],
   "source": [
    "len(ann)"
   ]
  },
  {
   "cell_type": "code",
   "execution_count": 17,
   "id": "6cd04712",
   "metadata": {
    "scrolled": false
   },
   "outputs": [
    {
     "data": {
      "text/plain": [
       "{'id': 166,\n",
       " 'annotations': [{'id': 41,\n",
       "   'completed_by': 1,\n",
       "   'result': [{'value': {'start': 20476,\n",
       "      'end': 20676,\n",
       "      'instant': False,\n",
       "      'timeserieslabels': ['Anomalie']},\n",
       "     'id': 'ycsI2b1PUi',\n",
       "     'from_name': 'label',\n",
       "     'to_name': 'ts',\n",
       "     'type': 'timeserieslabels',\n",
       "     'origin': 'manual'},\n",
       "    {'value': {'start': 20476,\n",
       "      'end': 20676,\n",
       "      'instant': False,\n",
       "      'choices': ['Extrasystole Ventriculaire']},\n",
       "     'id': 'ycsI2b1PUi',\n",
       "     'from_name': 'choices',\n",
       "     'to_name': 'ts',\n",
       "     'type': 'choices',\n",
       "     'origin': 'manual'},\n",
       "    {'value': {'start': 24069,\n",
       "      'end': 24230,\n",
       "      'instant': False,\n",
       "      'timeserieslabels': ['Anomalie']},\n",
       "     'id': 'i61jBpFoTG',\n",
       "     'from_name': 'label',\n",
       "     'to_name': 'ts',\n",
       "     'type': 'timeserieslabels',\n",
       "     'origin': 'manual'}],\n",
       "   'was_cancelled': False,\n",
       "   'ground_truth': False,\n",
       "   'created_at': '2022-01-17T15:32:47.562792Z',\n",
       "   'updated_at': '2022-01-17T15:32:47.562816Z',\n",
       "   'lead_time': 248.166,\n",
       "   'prediction': {},\n",
       "   'result_count': 0,\n",
       "   'task': 166,\n",
       "   'parent_prediction': None,\n",
       "   'parent_annotation': None}],\n",
       " 'file_upload': '41a66565-31AoWZ_2021-10-01T011500000000.csv',\n",
       " 'drafts': [{'id': 20,\n",
       "   'user': 'msalomon@chronolife.net',\n",
       "   'created_username': 'msalomon@chronolife.net, 1',\n",
       "   'created_ago': '3Â\\xa0minutes',\n",
       "   'result': [{'value': {'start': 20476,\n",
       "      'end': 20676,\n",
       "      'instant': False,\n",
       "      'timeserieslabels': ['Anomalie']},\n",
       "     'id': 'ycsI2b1PUi',\n",
       "     'from_name': 'label',\n",
       "     'to_name': 'ts',\n",
       "     'type': 'timeserieslabels',\n",
       "     'origin': 'manual'},\n",
       "    {'value': {'start': 20476,\n",
       "      'end': 20676,\n",
       "      'instant': False,\n",
       "      'choices': ['Extrasystole Ventriculaire']},\n",
       "     'id': 'ycsI2b1PUi',\n",
       "     'from_name': 'choices',\n",
       "     'to_name': 'ts',\n",
       "     'type': 'choices',\n",
       "     'origin': 'manual'},\n",
       "    {'value': {'start': 24069,\n",
       "      'end': 24230,\n",
       "      'instant': False,\n",
       "      'timeserieslabels': ['Anomalie']},\n",
       "     'id': 'i61jBpFoTG',\n",
       "     'from_name': 'label',\n",
       "     'to_name': 'ts',\n",
       "     'type': 'timeserieslabels',\n",
       "     'origin': 'manual'},\n",
       "    {'value': {'start': 24069,\n",
       "      'end': 24230,\n",
       "      'instant': False,\n",
       "      'choices': ['Extrasystole Auriculaire']},\n",
       "     'id': 'i61jBpFoTG',\n",
       "     'from_name': 'choices',\n",
       "     'to_name': 'ts',\n",
       "     'type': 'choices',\n",
       "     'origin': 'manual'},\n",
       "    {'value': {'start': 147038,\n",
       "      'end': 147255,\n",
       "      'instant': False,\n",
       "      'timeserieslabels': ['Anomalie']},\n",
       "     'id': 'UZWiZPp_ef',\n",
       "     'from_name': 'label',\n",
       "     'to_name': 'ts',\n",
       "     'type': 'timeserieslabels',\n",
       "     'origin': 'manual'},\n",
       "    {'value': {'start': 147038,\n",
       "      'end': 147255,\n",
       "      'instant': False,\n",
       "      'choices': ['Extrasystole Ventriculaire']},\n",
       "     'id': 'UZWiZPp_ef',\n",
       "     'from_name': 'choices',\n",
       "     'to_name': 'ts',\n",
       "     'type': 'choices',\n",
       "     'origin': 'manual'}],\n",
       "   'lead_time': 2459.128,\n",
       "   'created_at': '2022-01-17T15:32:58.710351Z',\n",
       "   'updated_at': '2022-01-17T15:35:28.172875Z',\n",
       "   'task': 166,\n",
       "   'annotation': 41}],\n",
       " 'predictions': [],\n",
       " 'data': {'timeseriesUrl': '/data/upload/45/41a66565-31AoWZ_2021-10-01T011500000000.csv'},\n",
       " 'meta': {},\n",
       " 'created_at': '2021-11-30T16:42:44.290791Z',\n",
       " 'updated_at': '2021-11-30T16:42:44.290805Z',\n",
       " 'project': 45}"
      ]
     },
     "execution_count": 17,
     "metadata": {},
     "output_type": "execute_result"
    }
   ],
   "source": [
    "ann[1]"
   ]
  },
  {
   "cell_type": "code",
   "execution_count": 17,
   "id": "53e31d3c",
   "metadata": {
    "scrolled": false
   },
   "outputs": [],
   "source": [
    "t = (str(ann).split('file_upload'))"
   ]
  },
  {
   "cell_type": "code",
   "execution_count": null,
   "id": "129d795a",
   "metadata": {},
   "outputs": [],
   "source": []
  }
 ],
 "metadata": {
  "kernelspec": {
   "display_name": "Python 3 (ipykernel)",
   "language": "python",
   "name": "python3"
  },
  "language_info": {
   "codemirror_mode": {
    "name": "ipython",
    "version": 3
   },
   "file_extension": ".py",
   "mimetype": "text/x-python",
   "name": "python",
   "nbconvert_exporter": "python",
   "pygments_lexer": "ipython3",
   "version": "3.9.7"
  }
 },
 "nbformat": 4,
 "nbformat_minor": 5
}
